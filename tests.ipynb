{
 "cells": [
  {
   "cell_type": "code",
   "execution_count": 1,
   "metadata": {},
   "outputs": [],
   "source": [
    "import math\n",
    "import numpy as np\n",
    "import cv2 as cv\n",
    "import matplotlib.pyplot as plt\n",
    "import time\n",
    "import utils_rev\n",
    "import yolov4"
   ]
  },
  {
   "cell_type": "code",
   "execution_count": 2,
   "metadata": {},
   "outputs": [
    {
     "name": "stdout",
     "output_type": "stream",
     "text": [
      "(416, 416, 3)\n",
      "519168\n",
      "uint8\n"
     ]
    }
   ],
   "source": [
    "# Read images\n",
    "\n",
    "img = cv.imread('assets/images/test13.jpg')\n",
    "img = cv.resize(img, (416, 416))\n",
    "\n",
    "mask = np.zeros([416,416,3],np.uint8)\n",
    "\n",
    "print(img.shape)\n",
    "print(img.size)\n",
    "print(img.dtype)"
   ]
  },
  {
   "cell_type": "code",
   "execution_count": 3,
   "metadata": {},
   "outputs": [],
   "source": [
    "# Run detection\n",
    "model_file = 'yolo_archive/models/yolov4/v4/yolov4-obj_best.weights'\n",
    "config_file = 'yolo_archive/yolov4-obj.cfg'\n",
    "labels, scores, bboxes = yolov4.predict(img, model_file, config_file, .25)"
   ]
  },
  {
   "cell_type": "code",
   "execution_count": 4,
   "metadata": {},
   "outputs": [],
   "source": [
    "img_yolo = img.copy()\n",
    "for label, score, bbox in zip(labels, scores, bboxes):\n",
    "    x, y, w, h = bbox\n",
    "    right = round(x + w)\n",
    "    left = round(x)\n",
    "    bottom = round(y + h)\n",
    "    top = round(y)\n",
    "    cv.rectangle(img_yolo, (left, top), (right, bottom), (255, 0, 255), 1)\n",
    "    cv.putText(img_yolo, \"{} [{:.2f}]\".format('paddy', float(score)),\n",
    "                (left, top - 5), cv.FONT_HERSHEY_SIMPLEX, 0.5,\n",
    "                (255, 0, 255), 2)"
   ]
  },
  {
   "cell_type": "code",
   "execution_count": 6,
   "metadata": {},
   "outputs": [],
   "source": [
    "# Draw centers\n",
    "img_centers = img.copy()\n",
    "left_line, right_line, img_centers = utils_rev.process_bboxes(img_centers, bboxes,threshold=60)"
   ]
  },
  {
   "cell_type": "code",
   "execution_count": 7,
   "metadata": {},
   "outputs": [],
   "source": [
    "# Run Thresholding\n",
    "img_thresh = utils_rev.thresholding(img_centers, 150, 150, 255, 255, 255, 255)"
   ]
  },
  {
   "cell_type": "code",
   "execution_count": 8,
   "metadata": {},
   "outputs": [],
   "source": [
    "# Run Canny Edge Detection\n",
    "img_edges = cv.Canny(img_thresh, 150, 255, apertureSize=3)"
   ]
  },
  {
   "cell_type": "code",
   "execution_count": 9,
   "metadata": {},
   "outputs": [
    {
     "name": "stdout",
     "output_type": "stream",
     "text": [
      "[[175 227 176 217]]\n",
      "175.5\n"
     ]
    }
   ],
   "source": [
    "lines = cv.HoughLinesP(img_edges, 1, np.pi/180, 10, np.array([]), minLineLength=10, maxLineGap=50)\n",
    "\n",
    "img_hough_1 = img.copy()\n",
    "for line in lines:\n",
    "    x1, y1, x2, y2 = line.reshape(4)\n",
    "    cv.line(img_hough_1, (round(x1), round(y1)), (round(x2), round(y2)), (0, 255, 0), 5)\n",
    "\n",
    "left_fit = []\n",
    "right_fit = []\n",
    "left_inf = []\n",
    "right_inf = []\n",
    "center_x = img.shape[1] // 2\n",
    "for line in lines:\n",
    "    x1, y1, x2, y2 = line.reshape(4)\n",
    "    if x1 != x2:\n",
    "        m, b = np.polyfit((x1, x2), (y1, y2), 1)\n",
    "        angle = np.rad2deg(np.arctan2(y2 - y1, x2 - x1))\n",
    "        if angle < 0:\n",
    "            angle += 180\n",
    "        if not (70 <= angle <= 110):\n",
    "            continue\n",
    "\n",
    "        midpoint_x = (x1 + x2) / 2\n",
    "        print(line)\n",
    "        print(midpoint_x)\n",
    "        if midpoint_x < center_x:\n",
    "            left_fit.append((m, b))\n",
    "        else:\n",
    "            right_fit.append((m, b))\n",
    "    else:\n",
    "        midpoint_x = (x1 + x2) / 2\n",
    "        if midpoint_x < center_x:\n",
    "            left_inf.append((x1, int(img.shape[0]), x2, int(img.shape[0]*1/3)))\n",
    "        else:\n",
    "            right_inf.append((x1, int(img.shape[0]), x2, int(img.shape[0]*1/3)))\n",
    "\n",
    "if len(left_fit) > len(left_inf):\n",
    "    left_fit_avg = np.average(left_fit, axis=0)\n",
    "    left_line = utils_rev.make_coordinates(img, left_fit_avg)\n",
    "else:\n",
    "    left_line = np.array(left_inf)\n",
    "    left_line = np.average(left_line, axis=0)\n",
    "    left_fit_avg = [float('inf'), left_line[0]]\n",
    "if len(right_fit) > len(right_inf):\n",
    "    right_fit_avg = np.average(right_fit, axis=0)\n",
    "    right_line = utils_rev.make_coordinates(img, right_fit_avg)\n",
    "else:\n",
    "    right_line = np.array(right_inf)\n",
    "    right_line = np.average(right_line, axis=0)\n",
    "    right_fit_avg = [float('inf'), right_line[0]]\n",
    "averaged = np.array([left_line, right_line])\n",
    "slopes = np.array([left_fit_avg, right_fit_avg])\n",
    "\n",
    "line_image = np.zeros_like(img)\n",
    "if averaged is not None:\n",
    "    for line in averaged:\n",
    "        x1, y1, x2, y2 = line.reshape(4)\n",
    "        cv.line(line_image, (round(x1), round(y1)), (round(x2), round(y2)), (0, 255, 0), 5)\n",
    "result_img = cv.addWeighted(img, 0.8, line_image, 1, 1)"
   ]
  },
  {
   "cell_type": "code",
   "execution_count": 10,
   "metadata": {},
   "outputs": [
    {
     "data": {
      "text/plain": [
       "(32,\n",
       " 32,\n",
       " 0,\n",
       " 0,\n",
       " array([[[121, 125, 132],\n",
       "         [127, 132, 139],\n",
       "         [127, 133, 141],\n",
       "         ...,\n",
       "         [119, 122, 125],\n",
       "         [124, 127, 130],\n",
       "         [130, 132, 135]],\n",
       " \n",
       "        [[124, 129, 136],\n",
       "         [128, 135, 142],\n",
       "         [126, 134, 142],\n",
       "         ...,\n",
       "         [119, 121, 124],\n",
       "         [117, 119, 123],\n",
       "         [114, 116, 119]],\n",
       " \n",
       "        [[129, 135, 142],\n",
       "         [136, 143, 150],\n",
       "         [131, 139, 147],\n",
       "         ...,\n",
       "         [136, 139, 142],\n",
       "         [127, 130, 133],\n",
       "         [111, 114, 117]],\n",
       " \n",
       "        ...,\n",
       " \n",
       "        [[ 99, 102, 108],\n",
       "         [108, 111, 117],\n",
       "         [115, 118, 124],\n",
       "         ...,\n",
       "         [112, 115, 121],\n",
       "         [102, 104, 111],\n",
       "         [111, 113, 119]],\n",
       " \n",
       "        [[ 96,  99, 105],\n",
       "         [111, 114, 120],\n",
       "         [104, 107, 113],\n",
       "         ...,\n",
       "         [127, 130, 136],\n",
       "         [118, 120, 127],\n",
       "         [117, 119, 126]],\n",
       " \n",
       "        [[116, 119, 125],\n",
       "         [124, 127, 133],\n",
       "         [ 95,  98, 104],\n",
       "         ...,\n",
       "         [129, 131, 138],\n",
       "         [131, 134, 140],\n",
       "         [133, 135, 141]]], dtype=uint8))"
      ]
     },
     "execution_count": 10,
     "metadata": {},
     "output_type": "execute_result"
    }
   ],
   "source": [
    "img_guide = result_img.copy()\n",
    "utils_rev.tractor_guidance(img_guide, averaged, 20)"
   ]
  },
  {
   "cell_type": "code",
   "execution_count": 11,
   "metadata": {},
   "outputs": [
    {
     "data": {
      "image/png": "[encoded data removed]",
      "text/plain": [
       "<Figure size 640x480 with 8 Axes>"
      ]
     },
     "metadata": {},
     "output_type": "display_data"
    }
   ],
   "source": [
    "titles = ['Original', 'ROI Extraction', 'Paddy Detection', 'Centers', 'Thresholding', 'Canny', 'Hough Transform', 'Tractor Guide']\n",
    "images = [img, img, img_yolo, img_centers, img_thresh, img_edges, result_img, img_guide]\n",
    "\n",
    "for i in range(len(images)):\n",
    "    plt.subplot(4, 4, i+1)\n",
    "    plt.imshow(images[i])\n",
    "    plt.title(titles[i])\n",
    "    plt.xticks([])\n",
    "    plt.yticks([])\n",
    "\n",
    "plt.show()"
   ]
  },
  {
   "cell_type": "code",
   "execution_count": null,
   "metadata": {},
   "outputs": [],
   "source": [
    "# Thresholding\n",
    "img = cv.imread('test2.jpg',0)\n",
    "_, th1 = cv.threshold(img, 200, 255, cv.THRESH_BINARY)\n",
    "_, th2 = cv.threshold(img, 100, 150, cv.THRESH_BINARY_INV)\n",
    "_, th3 = cv.threshold(img, 200, 255, cv.THRESH_TRUNC)\n",
    "_, th4 = cv.threshold(img, 200, 255, cv.THRESH_TOZERO)\n",
    "_, th5 = cv.threshold(img, 200, 255, cv.THRESH_TOZERO_INV)\n",
    "th6 = cv.adaptiveThreshold(img, 255, cv.ADAPTIVE_THRESH_MEAN_C, cv.THRESH_BINARY, 101, 2)\n",
    "th7 = cv.adaptiveThreshold(img, 255, cv.ADAPTIVE_THRESH_GAUSSIAN_C, cv.THRESH_BINARY, 101, 2)\n",
    "\n",
    "titles = ['original', 'BINARY', 'BINARY INV', 'TRUNC', 'TO ZERO', 'TO ZERO INV', 'ADAPTIVE MEAN', 'ADAPTIVE GAUSSIAN']\n",
    "images = [img, th1, th2, th3, th4, th5, th6, th7]\n",
    "\n",
    "for i in range(len(images)):\n",
    "    plt.subplot(3, 3, i+1)\n",
    "    plt.imshow(images[i], 'gray')\n",
    "    plt.title(titles[i])\n",
    "    plt.xticks([])\n",
    "    plt.yticks([])\n",
    "\n",
    "plt.show()"
   ]
  },
  {
   "cell_type": "code",
   "execution_count": null,
   "metadata": {},
   "outputs": [],
   "source": [
    "# Create bounding boxes\n",
    "img_rect = img.copy()\n",
    "coordinates = np.array([\n",
    "    [[20, 20], [80, 80]],\n",
    "    [[40, 100], [100, 160]],\n",
    "    [[60, 180], [120, 240]],\n",
    "    [[80, 260], [140, 320]],\n",
    "    [[100, 340], [160, 400]],\n",
    "    [[120, 420], [180, 480]],\n",
    "    [[220, 20], [280, 80]],\n",
    "    [[240, 100], [300, 160]],\n",
    "    [[260, 180], [320, 240]],\n",
    "    [[280, 260], [340, 320]],\n",
    "    [[300, 340], [360, 400]],\n",
    "    [[320, 420], [380, 480]]\n",
    "])\n",
    "\n",
    "for c1, c2 in coordinates:\n",
    "    cv.rectangle(img_rect, c1, c2, (255, 0, 255), 2)\n",
    "plt.imshow(img_rect)\n",
    "plt.show()"
   ]
  },
  {
   "cell_type": "code",
   "execution_count": null,
   "metadata": {},
   "outputs": [],
   "source": [
    "# Extract the center of the bounding boxes\n",
    "centers = []\n",
    "for c1, c2 in coordinates:\n",
    "    x_center = (c1[0]+c2[0])//2\n",
    "    y_center = (c1[1]+c2[1])//2\n",
    "    centers.append([x_center, y_center])\n",
    "\n",
    "centers = np.array(centers)\n",
    "print(centers)\n",
    "\n",
    "# Draw the centers as dots on the image\n",
    "img_centers = img.copy()\n",
    "print(img_centers.dtype)\n",
    "for center in centers:\n",
    "    cv.circle(img_centers, center, 5, (255, 0, 255), -1)\n",
    "print(img_centers.dtype)\n",
    "plt.imshow(img_centers)\n",
    "plt.show()"
   ]
  },
  {
   "cell_type": "code",
   "execution_count": null,
   "metadata": {},
   "outputs": [],
   "source": [
    "# Thresholding to separate bounding boxes with backgrounds\n",
    "# color_detection.detect_color_img(img_rect)\n",
    "img_thresh = utils.thresholding(img_centers, 150, 150, 255, 255, 255, 255)\n",
    "plt.imshow(img_thresh, cmap='gray')\n",
    "plt.show()\n",
    "# Note\n",
    "#   h = (150, 150)\n",
    "#   s = (255, 255)\n",
    "#   v = (255, 255)"
   ]
  },
  {
   "cell_type": "code",
   "execution_count": null,
   "metadata": {},
   "outputs": [],
   "source": [
    "# Hough Transform\n",
    "img_hough = img_centers.copy()\n",
    "gray = cv.cvtColor(img_hough,cv.COLOR_BGR2GRAY)\n",
    "edges = cv.Canny(img_thresh, 150, 255, apertureSize=3)\n",
    "lines = cv.HoughLines(edges,1,np.pi/180,30)\n",
    "if lines is not None:\n",
    "    for line in lines:\n",
    "        rho,theta = line[0]\n",
    "        a = np.cos(theta)\n",
    "        b = np.sin(theta)\n",
    "        x0 = a*rho\n",
    "        y0 = b*rho\n",
    "        x1 = int(x0 + 1000*(-b))\n",
    "        y1 = int(y0 + 1000*(a))\n",
    "        x2 = int(x0 - 1000*(-b))\n",
    "        y2 = int(y0 - 1000*(a))\n",
    "        cv.line(img_hough,(x1,y1),(x2,y2),(0,0,255),2)\n",
    "\n",
    "# Probability Hough Transform\n",
    "img_houghp = img_centers.copy()\n",
    "edges = cv.Canny(img_thresh, 150, 255, apertureSize=3)\n",
    "lines = cv.HoughLinesP(edges, rho=1, theta=np.pi/180, threshold=30, minLineLength=40, maxLineGap=80)\n",
    "if lines is not None:\n",
    "    for line in lines:\n",
    "        x1, y1, x2, y2 = line[0]\n",
    "        cv.line(img_houghp, (x1, y1), (x2, y2), (0, 0, 255), 2)\n",
    "\n",
    "images = [img_rect, edges, img_hough, img_houghp]\n",
    "titles = ['input', 'canny', 'hough', 'houghp']\n",
    "for i in range(len(images)):\n",
    "    plt.subplot(2, 2, i+1)\n",
    "    plt.imshow(images[i])\n",
    "    plt.title(titles[i])\n",
    "    plt.xticks([])\n",
    "    plt.yticks([])\n",
    "plt.show()"
   ]
  },
  {
   "cell_type": "code",
   "execution_count": null,
   "metadata": {},
   "outputs": [],
   "source": [
    "# Custom Hough Transform\n",
    "img_lane = img_thresh.copy()\n",
    "# if img_lane.ndim == 3:\n",
    "#     img_lane = cv.COLOR_BGR2GRAY(img_lane)\n",
    "accumulator, theta, rho = hough_transform.hough_line(img_lane)\n",
    "hough_transform.show_hough_line(img, accumulator, theta, rho, path='')"
   ]
  },
  {
   "cell_type": "code",
   "execution_count": null,
   "metadata": {},
   "outputs": [],
   "source": [
    "# Linearization\n",
    "img_linear = img_rect\n",
    "for c1, c2 in coordinates:\n",
    "    x1, y1 = c1\n",
    "    x2, y2 = c2\n",
    "    cv.line(img_linear, (x1, y1), (x2, y2), (255, 0, 255), 1)\n",
    "plt.imshow(img_linear)\n",
    "plt.show()"
   ]
  }
 ],
 "metadata": {
  "kernelspec": {
   "display_name": "lanedet",
   "language": "python",
   "name": "python3"
  },
  "language_info": {
   "codemirror_mode": {
    "name": "ipython",
    "version": 3
   },
   "file_extension": ".py",
   "mimetype": "text/x-python",
   "name": "python",
   "nbconvert_exporter": "python",
   "pygments_lexer": "ipython3",
   "version": "3.12.2"
  }
 },
 "nbformat": 4,
 "nbformat_minor": 2
}
